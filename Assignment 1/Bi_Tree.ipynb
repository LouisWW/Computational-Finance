{
 "cells": [
  {
   "cell_type": "code",
   "execution_count": 7,
   "metadata": {},
   "outputs": [],
   "source": [
    "import math\n",
    "\n",
    "class Tree:\n",
    "    \n",
    "    def __init__(self, current_value, strike_value, prop_p, risk_free_rate, time, volatility, steps):\n",
    "        # Declare\n",
    "        self.k = strike_value\n",
    "        self.s = current_value\n",
    "        self.p = prop_p\n",
    "        self.r = risk_free_rate\n",
    "        self.dt = time/steps\n",
    "        self.v = volatility\n",
    "        self.t = 0\n",
    "        self.steps = steps\n",
    "        self.tt = time\n",
    "        \n",
    "        # Make\n",
    "        self.node_loc = {}\n",
    "        self.u = math.exp(self.v * ((self.dt) ** 0.5))\n",
    "        self.d = math.exp(-self.v * ((self.dt) ** 0.5))\n",
    "        \n",
    "        first = Node(current_value, (0, 0), None, self.t)\n",
    "        self.current_layer = [first]\n",
    "        self.tree = {first.loc:first}\n",
    "        \n",
    "    def run(self, option):\n",
    "        '''\n",
    "        Excecute the value loop and the pricing loop\n",
    "        '''\n",
    "        # First set the values\n",
    "        for i in range(self.steps):\n",
    "            self.step(i)\n",
    "        \n",
    "        # Set final option price\n",
    "        self.final(option)\n",
    "        \n",
    "        # Set all prices in reverse order\n",
    "        busy = True\n",
    "        while busy:\n",
    "            busy = self.reverse_step()\n",
    "        \n",
    "        print(self.current_layer[0])\n",
    "        \n",
    "    def step(self, layer):\n",
    "        # initialize new layer\n",
    "        next_layer = []\n",
    "        self.node_loc[layer] = []\n",
    "        \n",
    "        # Increase time\n",
    "        self.t += self.dt\n",
    "        for i in self.current_layer:\n",
    "            # calculate new prices\n",
    "            value_up = i.value * self.u\n",
    "            value_down = i.value * self.d\n",
    "            \n",
    "            # Up or down node, if not already made\n",
    "            if not i.NN[0] in self.node_loc[layer]:\n",
    "                up_node = Node(value_up, i.NN[0], i.loc, self.t)\n",
    "                next_layer.append(up_node)\n",
    "                \n",
    "                # Track nodes\n",
    "                self.node_loc[layer].append(i.NN[0])\n",
    "                self.tree[up_node.loc] = up_node\n",
    "                \n",
    "            if not i.NN[1] in self.node_loc[layer]:\n",
    "                down_node = Node(value_down, i.NN[1], i.loc, self.t)\n",
    "                next_layer.append(down_node)\n",
    "                \n",
    "                # Track nodes\n",
    "                self.node_loc[layer].append(i.NN[1])\n",
    "                self.tree[down_node.loc] = down_node\n",
    "        \n",
    "        # Next layer becomes current\n",
    "        self.current_layer = next_layer\n",
    "            \n",
    "    def final(self, sign='put'):\n",
    "        '''\n",
    "        Set last layer option price\n",
    "        '''\n",
    "        # 0 or profit\n",
    "        if sign == 'call':\n",
    "            for i in self.current_layer:\n",
    "                i.price = i.value - self.k if i.value - self.k > 0 else 0\n",
    "        else:\n",
    "            for i in self.current_layer:\n",
    "                i.price = self.k - i.value if self.k - i.value > 0 else 0\n",
    "        \n",
    "    def reverse_step(self):\n",
    "        # Current layer lists\n",
    "        next_layer = []\n",
    "        locs = []\n",
    "        \n",
    "        # Backtrace nodes and price them\n",
    "        for node in self.current_layer:\n",
    "            previous_node = self.tree[node.prev]\n",
    "            \n",
    "            # No double pricing\n",
    "            if previous_node.loc in locs:\n",
    "                continue\n",
    "            \n",
    "            previous_node.set_price(self.p, self.r, self.tree)\n",
    "            next_layer.append(previous_node)\n",
    "            locs.append(previous_node.loc)\n",
    "        \n",
    "        # Check if finished\n",
    "        self.current_layer = next_layer\n",
    "        if not next_layer[0].loc[0] == 0:\n",
    "            return True\n",
    "        else:\n",
    "            return False\n",
    "        \n",
    "    \n",
    "class Node:\n",
    "    \n",
    "    def __init__(self, value, loc, prev, t):\n",
    "        self.value = value\n",
    "        self.loc = loc\n",
    "        self.prev = prev\n",
    "        self.t = t\n",
    "        self.NN = [(loc[0] + 1, loc[1] + 1), (loc[0] + 1, loc[1])]\n",
    "        self.price = 0\n",
    "        self.delta = 0\n",
    "    \n",
    "    def set_price(self, p, rate, tree):\n",
    "        '''\n",
    "        Set price of option node\n",
    "        '''\n",
    "        # Get future nodes (maybe needs to be shifted at call and put)\n",
    "        u_node = tree[self.NN[1]]\n",
    "        d_node = tree[self.NN[0]]\n",
    "        \n",
    "        # Get future option price\n",
    "        up_price = u_node.price\n",
    "        down_price = d_node.price\n",
    "        \n",
    "        # Calculate todays value and thus option price now\n",
    "        free_lunch = math.exp(-rate * self.t)\n",
    "        price = (p * up_price + (1 - p) * down_price) * free_lunch\n",
    "\n",
    "        # Set price, 0 or profit\n",
    "        self.price = max([0, price])\n",
    "        self.delta = abs(u_node.price - d_node.price) / abs(u_node.value - d_node.value)\n",
    "    \n",
    "    def __str__(self):\n",
    "        '''\n",
    "        Print all variables of the option node \n",
    "        '''\n",
    "        var = {'value':self.value, \"loc\":self.loc, \"prev\":self.prev, \n",
    "               \"NN\": self.NN,  \"price\": self.price, \"t\":self.t, \"delta\":self.delta}\n",
    "        s = ''\n",
    "        for v in var.items():\n",
    "            s += v[0] + \" : \" + str(v[1]) + \"\\n\"\n",
    "            \n",
    "        return s\n",
    "        "
   ]
  },
  {
   "cell_type": "code",
   "execution_count": 8,
   "metadata": {},
   "outputs": [],
   "source": [
    "# Example PUT option\n",
    "T = Tree(\n",
    "         current_value=50, \n",
    "         strike_value=50, \n",
    "         prop_p=0.5076, \n",
    "         risk_free_rate=0.10, \n",
    "         time=5/12, \n",
    "         volatility=0.40,\n",
    "         steps=5\n",
    "        )"
   ]
  },
  {
   "cell_type": "code",
   "execution_count": 9,
   "metadata": {},
   "outputs": [
    {
     "name": "stdout",
     "output_type": "stream",
     "text": [
      "value : 50\n",
      "loc : (0, 0)\n",
      "prev : None\n",
      "NN : [(1, 1), (1, 0)]\n",
      "price : 5.613783948393844\n",
      "t : 0\n",
      "delta : 0.549166891476583\n",
      "\n"
     ]
    }
   ],
   "source": [
    "T.run('call')"
   ]
  },
  {
   "cell_type": "code",
   "execution_count": 15,
   "metadata": {},
   "outputs": [
    {
     "name": "stdout",
     "output_type": "stream",
     "text": [
      "value : 70.69912290402584\n",
      "loc : (5, 4)\n",
      "prev : (4, 4)\n",
      "NN : [(6, 5), (6, 4)]\n",
      "price : 20.69912290402584\n",
      "t : 0.41666666666666674\n",
      "delta : 0\n",
      "\n"
     ]
    }
   ],
   "source": [
    "print(T.tree[(5,4)])"
   ]
  },
  {
   "cell_type": "code",
   "execution_count": 23,
   "metadata": {},
   "outputs": [
    {
     "data": {
      "text/plain": [
       "75"
      ]
     },
     "execution_count": 23,
     "metadata": {},
     "output_type": "execute_result"
    }
   ],
   "source": [
    "import random\n",
    "\n",
    "r = [random.randint(0, 6) for i in range(100)]\n",
    "len([ i for n,i in enumerate(r) if int(n%(100/75)) == 0])"
   ]
  },
  {
   "cell_type": "code",
   "execution_count": 24,
   "metadata": {},
   "outputs": [],
   "source": [
    "import Julien.test_code_julien as jc"
   ]
  },
  {
   "cell_type": "code",
   "execution_count": 26,
   "metadata": {},
   "outputs": [],
   "source": [
    "B = jc.BlackScholes(1, 99, 100, 0.06, 0.4, 100)"
   ]
  },
  {
   "cell_type": "code",
   "execution_count": 27,
   "metadata": {},
   "outputs": [],
   "source": [
    "B.create_price_path()"
   ]
  },
  {
   "cell_type": "code",
   "execution_count": 29,
   "metadata": {},
   "outputs": [
    {
     "data": {
      "image/png": "[encoded data removed]",
      "text/plain": [
       "<Figure size 432x288 with 2 Axes>"
      ]
     },
     "metadata": {
      "needs_background": "light"
     },
     "output_type": "display_data"
    }
   ],
   "source": [
    "B.plot_price_path(steps=10)"
   ]
  },
  {
   "cell_type": "code",
   "execution_count": null,
   "metadata": {},
   "outputs": [],
   "source": []
  }
 ],
 "metadata": {
  "kernelspec": {
   "display_name": "Python 3",
   "language": "python",
   "name": "python3"
  },
  "language_info": {
   "codemirror_mode": {
    "name": "ipython",
    "version": 3
   },
   "file_extension": ".py",
   "mimetype": "text/x-python",
   "name": "python",
   "nbconvert_exporter": "python",
   "pygments_lexer": "ipython3",
   "version": "3.7.2"
  }
 },
 "nbformat": 4,
 "nbformat_minor": 2
}
